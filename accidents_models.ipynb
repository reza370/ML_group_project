{
 "cells": [
  {
   "cell_type": "markdown",
   "metadata": {},
   "source": [
    "# Import libraries"
   ]
  },
  {
   "cell_type": "code",
   "execution_count": 34,
   "metadata": {},
   "outputs": [],
   "source": [
    "\n",
    "import datetime as dt\n",
    "import pandas as pd\n",
    "import numpy as np\n",
    "import requests\n",
    "import seaborn as sns\n",
    "import matplotlib.pyplot as plt\n",
    "import plotly.express as px\n",
    "import h2o\n",
    "import sklearn\n",
    "from sklearn.metrics import accuracy_score, classification_report, confusion_matrix\n",
    "from imblearn.under_sampling import RandomUnderSampler, TomekLinks\n",
    "from sklearn.ensemble import ExtraTreesClassifier\n",
    "from sklearn.ensemble import RandomForestClassifier\n",
    "from sklearn.feature_selection import SelectKBest\n",
    "from sklearn.feature_selection import chi2\n",
    "from sklearn.model_selection import train_test_split\n",
    "from sklearn.cluster import KMeans\n",
    "from sklearn.preprocessing import StandardScaler\n",
    "from sklearn.metrics import silhouette_score\n",
    "from math import radians, sin, cos, sqrt, atan2\n",
    "from shapely.geometry import Polygon\n",
    "from sklearn.preprocessing import LabelEncoder\n",
    "from statsmodels.stats.outliers_influence import variance_inflation_factor\n",
    "\n",
    "from sklearn.linear_model import LogisticRegression\n",
    "from sklearn.ensemble import AdaBoostClassifier\n",
    "from statsmodels.tools.tools import add_constant\n",
    "\n",
    "from sklearn.feature_extraction.text import TfidfVectorizer \n",
    "from sklearn.tree import DecisionTreeClassifier\n",
    "from sklearn.preprocessing import StandardScaler\n",
    "from sklearn.neighbors import KNeighborsClassifier\n",
    "from sklearn.naive_bayes import GaussianNB\n",
    "from xgboost import XGBClassifier\n",
    "from imblearn.ensemble import BalancedBaggingClassifier\n",
    "from sklearn.ensemble import VotingClassifier\n",
    "from sklearn.decomposition import PCA\n",
    "from sklearn.model_selection import train_test_split\n",
    "from sklearn.preprocessing import RobustScaler\n",
    "from sklearn.linear_model import LinearRegression\n",
    "from h2o.automl import H2OAutoML\n",
    "from tpot import TPOTClassifier\n",
    "import torch\n",
    "from torch import nn\n",
    "from torch.utils.data import TensorDataset, DataLoader\n",
    "from sklearn.metrics import r2_score\n",
    "from tensorflow.keras.models import Sequential\n",
    "from tensorflow.keras.layers import Dense\n",
    "from tensorflow.keras.optimizers import Adam\n",
    "from sklearn.ensemble import RandomForestClassifier\n",
    "from sklearn.model_selection import GridSearchCV\n",
    "import xgboost\n",
    "from sklearn.metrics import mean_squared_error, r2_score, roc_auc_score\n",
    "from sklearn.linear_model import LinearRegression \n",
    "from sklearn.svm import SVR\n",
    "from sklearn.neighbors import KNeighborsRegressor\n",
    "from sklearn.tree import DecisionTreeRegressor\n",
    "from sklearn.ensemble import RandomForestRegressor\n",
    "from sklearn.model_selection import KFold, cross_val_score\n",
    "from sklearn.linear_model import SGDRegressor\n",
    "from sklearn.metrics import mean_squared_error\n",
    "from sklearn.svm import SVC\n",
    "import sys\n",
    "from sklearn.mixture import GaussianMixture\n",
    "from sklearn import metrics\n",
    "from sklearn.metrics import silhouette_score, calinski_harabasz_score,davies_bouldin_score,rand_score,fowlkes_mallows_score\n",
    "from sklearn.cluster import DBSCAN,KMeans,AgglomerativeClustering,MeanShift\n",
    "import mlflow\n",
    "import mlflow.sklearn\n",
    "import pickle\n",
    "import os\n",
    "from sklearn.metrics import confusion_matrix, ConfusionMatrixDisplay\n"
   ]
  },
  {
   "cell_type": "code",
   "execution_count": 2,
   "metadata": {},
   "outputs": [
    {
     "data": {
      "text/plain": [
       "<Experiment: artifact_location='mlflow-artifacts:/333203481596531553', creation_time=1701239176812, experiment_id='333203481596531553', last_update_time=1701239176812, lifecycle_stage='active', name='ML Project Group 11', tags={}>"
      ]
     },
     "execution_count": 2,
     "metadata": {},
     "output_type": "execute_result"
    }
   ],
   "source": [
    "mlflow.set_tracking_uri(\"http://127.0.0.1:5000\")\n",
    "os.environ[\"LOGNAME\"] = \"ML-Project\"\n",
    "mlflow.set_experiment(experiment_name=\"ML Project Group 11\")"
   ]
  },
  {
   "cell_type": "markdown",
   "metadata": {},
   "source": [
    "# Load the cleaned and preprocessed data"
   ]
  },
  {
   "cell_type": "code",
   "execution_count": 3,
   "metadata": {},
   "outputs": [],
   "source": [
    "accidents_sub = pd.read_csv(\"C:\\\\Users\\\\reza3\\\\OneDrive\\\\Desktop\\\\AIT\\\\Machine learning\\\\group project\\\\data\\\\accidents_sub.csv\")"
   ]
  },
  {
   "cell_type": "markdown",
   "metadata": {},
   "source": [
    "# create train and test data"
   ]
  },
  {
   "cell_type": "code",
   "execution_count": 4,
   "metadata": {},
   "outputs": [],
   "source": [
    "X = accidents_sub.drop(columns=['Unnamed: 0', 'ID', 'Severity', 'Delay(min)', 'Street', 'City', 'County', 'State', 'Zipcode',\n",
    "       'Start_Year', 'Start_Month', 'Start_Day', \"Wind_Chill(C)\",\n",
    "       'Start_time','Distance(km)', 'Delay_ln', 'Severity_new'])\n",
    "Y = accidents_sub.loc[:, ['Severity', 'Severity_new', 'Delay(min)', 'Delay_ln', 'Distance(km)']]\n"
   ]
  },
  {
   "cell_type": "code",
   "execution_count": 5,
   "metadata": {},
   "outputs": [
    {
     "name": "stdout",
     "output_type": "stream",
     "text": [
      "<class 'pandas.core.frame.DataFrame'>\n",
      "RangeIndex: 3047692 entries, 0 to 3047691\n",
      "Data columns (total 22 columns):\n",
      " #   Column                Dtype  \n",
      "---  ------                -----  \n",
      " 0   Start_Lat             float64\n",
      " 1   Start_Lng             float64\n",
      " 2   Humidity(%)           float64\n",
      " 3   Crossing              int64  \n",
      " 4   Junction              int64  \n",
      " 5   Stop                  int64  \n",
      " 6   Traffic_Signal        int64  \n",
      " 7   Sunrise_Sunset        int64  \n",
      " 8   Civil_Twilight        int64  \n",
      " 9   Start_Hour            int64  \n",
      " 10  IsWeekend             int64  \n",
      " 11  Temperature(C)        float64\n",
      " 12  Pressure(cm)          float64\n",
      " 13  Precipitation(cm)     float64\n",
      " 14  Visibility(km)        float64\n",
      " 15  Wind_Speed(kmph)      float64\n",
      " 16  Weather_Bin_Clear     int64  \n",
      " 17  Weather_Bin_Cloudy    int64  \n",
      " 18  Weather_Bin_Rainy     int64  \n",
      " 19  Weather_Bin_Snowy     int64  \n",
      " 20  Start_Month_December  int64  \n",
      " 21  Start_Month_January   int64  \n",
      "dtypes: float64(8), int64(14)\n",
      "memory usage: 511.5 MB\n"
     ]
    }
   ],
   "source": [
    "X.info()"
   ]
  },
  {
   "cell_type": "code",
   "execution_count": 6,
   "metadata": {},
   "outputs": [
    {
     "data": {
      "text/plain": [
       "((3047692, 22), (3047692, 5))"
      ]
     },
     "execution_count": 6,
     "metadata": {},
     "output_type": "execute_result"
    }
   ],
   "source": [
    "X.shape, Y.shape"
   ]
  },
  {
   "cell_type": "code",
   "execution_count": 7,
   "metadata": {},
   "outputs": [
    {
     "name": "stdout",
     "output_type": "stream",
     "text": [
      "train set shape: (2742922, 22) (2742922,) test set shape:  (304770, 22) (304770,)\n"
     ]
    }
   ],
   "source": [
    "X_train, X_test, Y_train, Y_test = train_test_split(X, Y[\"Severity_new\"], test_size = 0.10, random_state=370, stratify=Y[\"Severity_new\"])\n",
    "\n",
    "assert len(X_train)  == len(Y_train)\n",
    "assert len(X_test)   == len(Y_test)\n",
    "print(\"train set shape:\", X_train.shape,Y_train.shape, \"test set shape: \", X_test.shape, Y_test.shape)"
   ]
  },
  {
   "cell_type": "markdown",
   "metadata": {},
   "source": [
    "# Fixing imbalance classes"
   ]
  },
  {
   "cell_type": "code",
   "execution_count": 8,
   "metadata": {},
   "outputs": [
    {
     "data": {
      "text/plain": [
       "Severity_new\n",
       "0    2775400\n",
       "1     272292\n",
       "Name: count, dtype: int64"
      ]
     },
     "execution_count": 8,
     "metadata": {},
     "output_type": "execute_result"
    }
   ],
   "source": [
    "# Imbalance classes of the label is severe, so first I created a new feature named severity_new and the tried different methods to deal with imbalance\n",
    "accidents_sub[\"Severity_new\"].value_counts(sort=False)"
   ]
  },
  {
   "cell_type": "code",
   "execution_count": null,
   "metadata": {},
   "outputs": [],
   "source": [
    "'''# fixing imbalance by under sampling (Tomek links) (it didn't help)\n",
    "tl = TomekLinks(n_jobs=-1, sampling_strategy=\"Majority\")\n",
    "\n",
    "# fit predictor and target variable\n",
    "X_train_tl, Y_train_tl = tl.fit_resample(X_train, Y_train[\"Severity_new\"])'''"
   ]
  },
  {
   "cell_type": "code",
   "execution_count": 9,
   "metadata": {},
   "outputs": [
    {
     "name": "stdout",
     "output_type": "stream",
     "text": [
      "train set shape: (490126, 22) (490126,)\n"
     ]
    }
   ],
   "source": [
    "# fixing imbalance by under sampling (random under sampling without replacement)\n",
    "rus = RandomUnderSampler(random_state=370, replacement=False)\n",
    "\n",
    "# fit predictor and target varialbe\n",
    "X_train_rus, Y_train_rus = rus.fit_resample(X_train, Y_train)\n",
    "\n",
    "print(\"train set shape:\", X_train_rus.shape,Y_train_rus.shape)"
   ]
  },
  {
   "cell_type": "markdown",
   "metadata": {},
   "source": [
    "# Regression Model\n",
    "I tried to fit a regression model with Delay and distance as labels but no appropriate model have found. "
   ]
  },
  {
   "cell_type": "code",
   "execution_count": null,
   "metadata": {},
   "outputs": [],
   "source": [
    "'''model = SGDRegressor(max_iter=1000, tol=1e-3, random_state=370)\n",
    "\n",
    "model.fit(X_train, Y_train[\"Distance(km)\"])\n",
    "\n",
    "# Make predictions on the validation set\n",
    "y_train_pred = model.predict(X_train)\n",
    "\n",
    "# Calculate metrics\n",
    "mse = mean_squared_error(Y_train[\"Distance(km)\"], y_train_pred)\n",
    "r2 = r2_score(Y_train[\"Distance(km)\"], y_train_pred)\n",
    "print(f'Mean Squared Error on Test Set: {mse}')\n",
    "print(f'R_squared on Test Set: {r2}')'''\n",
    "\n",
    "\n"
   ]
  },
  {
   "cell_type": "markdown",
   "metadata": {},
   "source": [
    "# Classification models"
   ]
  },
  {
   "cell_type": "code",
   "execution_count": 14,
   "metadata": {},
   "outputs": [
    {
     "name": "stderr",
     "output_type": "stream",
     "text": [
      "c:\\Users\\reza3\\AppData\\Local\\Programs\\Python\\Python311\\Lib\\site-packages\\mlflow\\data\\dataset_source_registry.py:143: UserWarning: The specified dataset source can be interpreted in multiple ways: LocalArtifactDatasetSource, LocalArtifactDatasetSource. MLflow will assume that this is a LocalArtifactDatasetSource source.\n",
      "  return _dataset_source_registry.resolve(\n",
      "c:\\Users\\reza3\\AppData\\Local\\Programs\\Python\\Python311\\Lib\\site-packages\\mlflow\\data\\digest_utils.py:26: FutureWarning: DataFrame.applymap has been deprecated. Use DataFrame.map instead.\n",
      "  string_columns = trimmed_df.columns[(df.applymap(type) == str).all(0)]\n",
      "c:\\Users\\reza3\\AppData\\Local\\Programs\\Python\\Python311\\Lib\\site-packages\\mlflow\\data\\pandas_dataset.py:134: UserWarning: Hint: Inferred schema contains integer column(s). Integer columns in Python cannot represent missing values. If your input data contains missing values at inference time, it will be encoded as floats and will cause a schema enforcement error. The best way to avoid this problem is to infer the model schema based on a realistic data sample (training dataset) that includes missing values. Alternatively, you can declare integer columns as doubles (float64) whenever these columns may have missing values. See `Handling Integers With Missing Values <https://www.mlflow.org/docs/latest/models.html#handling-integers-with-missing-values>`_ for more details.\n",
      "  return _infer_schema(self._df)\n"
     ]
    },
    {
     "name": "stdout",
     "output_type": "stream",
     "text": [
      "Model:  LogisticRegression(n_jobs=-1, random_state=370) Scores:  [0.6 0.6 0.6 0.6 0.6] - Scores mean:  0.5995335899854665 - Scores std: 0.00165098337682491\n",
      "ROCAUC score: 0.6047820979048242\n",
      "              precision    recall  f1-score   support\n",
      "\n",
      "           0       0.94      0.58      0.72    277541\n",
      "           1       0.13      0.63      0.21     27229\n",
      "\n",
      "    accuracy                           0.58    304770\n",
      "   macro avg       0.53      0.60      0.47    304770\n",
      "weighted avg       0.87      0.58      0.67    304770\n",
      "\n",
      "Model:  RandomForestClassifier(n_jobs=-1, random_state=370) Scores:  [0.73 0.73 0.73 0.73 0.73] - Scores mean:  0.7299327146226626 - Scores std: 0.0018975149193138717\n",
      "ROCAUC score: 0.7359946245304989\n",
      "              precision    recall  f1-score   support\n",
      "\n",
      "           0       0.97      0.72      0.82    277541\n",
      "           1       0.21      0.75      0.33     27229\n",
      "\n",
      "    accuracy                           0.72    304770\n",
      "   macro avg       0.59      0.74      0.57    304770\n",
      "weighted avg       0.90      0.72      0.78    304770\n",
      "\n",
      "Model:  XGBClassifier(base_score=None, booster=None, callbacks=None,\n",
      "              colsample_bylevel=None, colsample_bynode=None,\n",
      "              colsample_bytree=None, device=None, early_stopping_rounds=None,\n",
      "              enable_categorical=False, eval_metric=None, feature_types=None,\n",
      "              gamma=None, grow_policy=None, importance_type=None,\n",
      "              interaction_constraints=None, learning_rate=None, max_bin=None,\n",
      "              max_cat_threshold=None, max_cat_to_onehot=None,\n",
      "              max_delta_step=None, max_depth=1, max_leaves=None,\n",
      "              min_child_weight=None, missing=nan, monotone_constraints=None,\n",
      "              multi_strategy=None, n_estimators=200, n_jobs=-1,\n",
      "              num_parallel_tree=None, random_state=None, ...) Scores:  [0.64 0.64 0.64 0.64 0.65] - Scores mean:  0.6419981817980587 - Scores std: 0.0018562362153661395\n",
      "ROCAUC score: 0.6451975292738024\n",
      "              precision    recall  f1-score   support\n",
      "\n",
      "           0       0.95      0.61      0.75    277541\n",
      "           1       0.15      0.68      0.24     27229\n",
      "\n",
      "    accuracy                           0.62    304770\n",
      "   macro avg       0.55      0.65      0.49    304770\n",
      "weighted avg       0.88      0.62      0.70    304770\n",
      "\n",
      "Model:  AdaBoostClassifier(estimator=DecisionTreeClassifier(max_depth=1),\n",
      "                   learning_rate=0.001, n_estimators=200, random_state=370) Scores:  [0.61 0.61 0.61 0.61 0.61] - Scores mean:  0.6127118342554873 - Scores std: 0.0017988055736193461\n",
      "ROCAUC score: 0.6160145930904265\n",
      "              precision    recall  f1-score   support\n",
      "\n",
      "           0       0.95      0.48      0.64    277541\n",
      "           1       0.12      0.75      0.21     27229\n",
      "\n",
      "    accuracy                           0.51    304770\n",
      "   macro avg       0.54      0.62      0.43    304770\n",
      "weighted avg       0.88      0.51      0.60    304770\n",
      "\n"
     ]
    }
   ],
   "source": [
    "from mlflow.data.pandas_dataset import PandasDataset\n",
    "\n",
    "lr = LogisticRegression(random_state=370, n_jobs=-1)\n",
    "rf = RandomForestClassifier(random_state=370, n_jobs=-1)\n",
    "xgb = xgboost.XGBClassifier(max_depth=1, n_estimators=200, n_jobs=-1)\n",
    "ada = AdaBoostClassifier(DecisionTreeClassifier(max_depth=1), n_estimators=200, learning_rate=0.001, random_state=370)\n",
    "\n",
    "# models = [ lr, rf, sgb, ada]\n",
    "models = {\"Logistic Regression\": lr, \"Random Forest\":rf, \"xgboost\":xgb, \"Adaboost\":ada}\n",
    "\n",
    "dataset: PandasDataset = mlflow.data.from_pandas(X_train_rus, source='')\n",
    "\n",
    "\n",
    "#perform cross validation using KFold\n",
    "from sklearn.model_selection import KFold, cross_val_score\n",
    "\n",
    "kfold = KFold(n_splits = 5, shuffle = True, random_state=370)\n",
    "for name,model in models.items():\n",
    "    with mlflow.start_run(run_name=f\"{name} Model \", nested=True):\n",
    "        mlflow.log_input(dataset, context=\"training\")\n",
    "        score = cross_val_score(model, X_train_rus, Y_train_rus, cv=kfold, scoring='accuracy', n_jobs=-1)  #f1, recall, precision, accuracy\n",
    "        print(\"Model: \", model, \"Scores: \", score, \"- Scores mean: \", score.mean(), \"- Scores std:\", score.std()) \n",
    "        params = {\"Model\":model, \"Scores\":score, \"Scores mean\":score.mean(), \"Scores std \":score.std()}\n",
    "        mlflow.log_params(params=params)\n",
    "        fit = model.fit(X_train_rus, Y_train_rus)\n",
    "        yhat = fit.predict(X_test)\n",
    "        conf_matrix = confusion_matrix(Y_test, yhat)\n",
    "        true_positive = conf_matrix[0][0]\n",
    "        true_negative = conf_matrix[1][1]\n",
    "        false_positive = conf_matrix[0][1]\n",
    "        false_negative = conf_matrix[1][0]\n",
    "        #mlflow.log_metric(\"true_positive\", true_positive)\n",
    "        #mlflow.log_metric(\"true_negative\", true_negative)\n",
    "        #mlflow.log_metric(\"false_positive\", false_positive)\n",
    "        #mlflow.log_metric(\"false_negative\", false_negative)\n",
    "        #print(confusion_matrix(Y_test, yhat).ravel())\n",
    "        mlflow.log_metric(\"ROCAUC_score\", roc_auc_score(Y_test, yhat))\n",
    "        print('ROCAUC score:',roc_auc_score(Y_test, yhat))      \n",
    "        #print(classification_report(Y_test, yhat))\n",
    "        cr = classification_report(Y_test, yhat, output_dict=True) \n",
    "        mlflow.log_metric(\"accuracy\", cr.pop(\"accuracy\"))\n",
    "        for class_or_avg, metrics_dict in cr.items():\n",
    "            for metric, value in metrics_dict.items():\n",
    "                mlflow.log_metric(class_or_avg + '_' + metric,value)     \n",
    "        print(classification_report(Y_test, yhat))\n",
    "        #print(\"Model saved in run %s\" % mlflow.active_run().info.run_uuid)\n",
    "        #mlflow.sklearn.log_model(fit, name)\n",
    "       "
   ]
  },
  {
   "cell_type": "code",
   "execution_count": 12,
   "metadata": {},
   "outputs": [
    {
     "name": "stdout",
     "output_type": "stream",
     "text": [
      "{'criterion': 'gini', 'max_depth': 9, 'n_estimators': 300}\n",
      "              precision    recall  f1-score   support\n",
      "\n",
      "           0       0.96      0.58      0.72    277541\n",
      "           1       0.15      0.75      0.25     27229\n",
      "\n",
      "    accuracy                           0.59    304770\n",
      "   macro avg       0.55      0.66      0.48    304770\n",
      "weighted avg       0.89      0.59      0.68    304770\n",
      "\n"
     ]
    }
   ],
   "source": [
    "param_grid = {\"n_estimators\": [100, 200, 300], \"criterion\": [\"gini\", \"entropy\"], \"max_depth\": np.arange(1, 10)}\n",
    "model = RandomForestClassifier(n_jobs=-1, random_state=370)\n",
    "grid = GridSearchCV(model, param_grid, refit=True, n_jobs=-1)\n",
    "grid.fit(X_train_rus, Y_train_rus)\n",
    "print(grid.best_params_)\n",
    "yhat = grid.predict(X_test)\n",
    "print(classification_report(Y_test, yhat))"
   ]
  },
  {
   "cell_type": "markdown",
   "metadata": {},
   "source": [
    "# The final model"
   ]
  },
  {
   "cell_type": "code",
   "execution_count": 19,
   "metadata": {},
   "outputs": [
    {
     "name": "stderr",
     "output_type": "stream",
     "text": [
      "c:\\Users\\reza3\\AppData\\Local\\Programs\\Python\\Python311\\Lib\\site-packages\\mlflow\\data\\dataset_source_registry.py:143: UserWarning: The specified dataset source can be interpreted in multiple ways: LocalArtifactDatasetSource, LocalArtifactDatasetSource. MLflow will assume that this is a LocalArtifactDatasetSource source.\n",
      "  return _dataset_source_registry.resolve(\n",
      "c:\\Users\\reza3\\AppData\\Local\\Programs\\Python\\Python311\\Lib\\site-packages\\mlflow\\data\\digest_utils.py:26: FutureWarning: DataFrame.applymap has been deprecated. Use DataFrame.map instead.\n",
      "  string_columns = trimmed_df.columns[(df.applymap(type) == str).all(0)]\n",
      "c:\\Users\\reza3\\AppData\\Local\\Programs\\Python\\Python311\\Lib\\site-packages\\mlflow\\data\\pandas_dataset.py:134: UserWarning: Hint: Inferred schema contains integer column(s). Integer columns in Python cannot represent missing values. If your input data contains missing values at inference time, it will be encoded as floats and will cause a schema enforcement error. The best way to avoid this problem is to infer the model schema based on a realistic data sample (training dataset) that includes missing values. Alternatively, you can declare integer columns as doubles (float64) whenever these columns may have missing values. See `Handling Integers With Missing Values <https://www.mlflow.org/docs/latest/models.html#handling-integers-with-missing-values>`_ for more details.\n",
      "  return _infer_schema(self._df)\n"
     ]
    },
    {
     "name": "stdout",
     "output_type": "stream",
     "text": [
      "[160660 116881   6899  20330]\n",
      "ROCAUC score: 0.6627499295456922\n",
      "              precision    recall  f1-score   support\n",
      "\n",
      "           0       0.96      0.58      0.72    277541\n",
      "           1       0.15      0.75      0.25     27229\n",
      "\n",
      "    accuracy                           0.59    304770\n",
      "   macro avg       0.55      0.66      0.48    304770\n",
      "weighted avg       0.89      0.59      0.68    304770\n",
      "\n"
     ]
    }
   ],
   "source": [
    "from mlflow.data.pandas_dataset import PandasDataset\n",
    "final_model = RandomForestClassifier(n_estimators= 300, criterion=\"gini\", max_depth= 9, n_jobs=-1, random_state=370 )\n",
    "\n",
    "dataset: PandasDataset = mlflow.data.from_pandas(X_train_rus, source='')\n",
    "with mlflow.start_run(run_name=f\"Random Forest Classifier {final_model}\"):\n",
    "        mlflow.log_input(dataset, context=\"training\")\n",
    "        fit = final_model.fit(X_train_rus, Y_train_rus)\n",
    "        yhat = fit.predict(X_test)\n",
    "        conf_matrix = confusion_matrix(Y_test, yhat)\n",
    "        true_positive = conf_matrix[0][0]\n",
    "        true_negative = conf_matrix[1][1]\n",
    "        false_positive = conf_matrix[0][1]\n",
    "        false_negative = conf_matrix[1][0]\n",
    "        mlflow.log_metric(\"true_positive\", true_positive)\n",
    "        mlflow.log_metric(\"true_negative\", true_negative)\n",
    "        mlflow.log_metric(\"false_positive\", false_positive)\n",
    "        mlflow.log_metric(\"false_negative\", false_negative)\n",
    "        print(confusion_matrix(Y_test, yhat).ravel())\n",
    "        mlflow.log_metric(\"ROCAUC_score\", roc_auc_score(Y_test, yhat))\n",
    "        print('ROCAUC score:',roc_auc_score(Y_test, yhat))      \n",
    "        print(classification_report(Y_test, yhat))\n",
    "        cr = classification_report(Y_test, yhat, output_dict=True) \n",
    "        mlflow.log_metric(\"accuracy\", cr.pop(\"accuracy\"))\n",
    "        for class_or_avg, metrics_dict in cr.items():\n",
    "            for metric, value in metrics_dict.items():\n",
    "                mlflow.log_metric(class_or_avg + '_' + metric,value)     \n",
    "        mlflow.sklearn.log_model(final_model,\"ّFinal Model\")\n",
    "        mlflow.end_run()\n",
    "       "
   ]
  },
  {
   "cell_type": "markdown",
   "metadata": {},
   "source": [
    "# Analyse (Features importance)"
   ]
  },
  {
   "cell_type": "code",
   "execution_count": 24,
   "metadata": {},
   "outputs": [
    {
     "name": "stderr",
     "output_type": "stream",
     "text": [
      "C:\\Users\\reza3\\AppData\\Local\\Temp\\ipykernel_2200\\2097169851.py:9: FutureWarning: \n",
      "\n",
      "Passing `palette` without assigning `hue` is deprecated and will be removed in v0.14.0. Assign the `y` variable to `hue` and set `legend=False` for the same effect.\n",
      "\n",
      "  sns.barplot( y= feature_importance_sorted[0], x=feature_importance_sorted[1], palette=\"colorblind\")\n"
     ]
    },
    {
     "data": {
      "image/png": "[encoded data removed]",
      "text/plain": [
       "<Figure size 640x480 with 1 Axes>"
      ]
     },
     "metadata": {},
     "output_type": "display_data"
    }
   ],
   "source": [
    "feature_imp = final_model.feature_importances_\n",
    "feature_names = final_model.feature_names_in_\n",
    "feature_importance = [feature_names, feature_imp]\n",
    "len(feature_importance)\n",
    "df = pd.DataFrame(feature_importance)\n",
    "df1=df.T\n",
    "feature_importance_sorted = df1.sort_values(by=1, ascending=False)\n",
    "\n",
    "sns.barplot( y= feature_importance_sorted[0], x=feature_importance_sorted[1], palette=\"colorblind\")\n",
    "plt.xlabel(\"Importance Measure\")\n",
    "plt.ylabel(\"Feature name\")\n",
    "plt.show()\n"
   ]
  },
  {
   "cell_type": "markdown",
   "metadata": {},
   "source": [
    "# Save the model and inference"
   ]
  },
  {
   "cell_type": "code",
   "execution_count": 25,
   "metadata": {},
   "outputs": [],
   "source": [
    "with open('random_forest_model.pkl', 'wb') as file:\n",
    "    pickle.dump(final_model, file)\n",
    "\n"
   ]
  },
  {
   "cell_type": "code",
   "execution_count": 26,
   "metadata": {},
   "outputs": [],
   "source": [
    "# Load the model back using pickle\n",
    "with open('random_forest_model.pkl', 'rb') as file:\n",
    "    loaded_rf_model = pickle.load(file)"
   ]
  },
  {
   "cell_type": "code",
   "execution_count": 30,
   "metadata": {},
   "outputs": [
    {
     "name": "stdout",
     "output_type": "stream",
     "text": [
      "Prediction: [1 0 1 1 1]\n"
     ]
    }
   ],
   "source": [
    "new_data = X_test.iloc[[1000,1680,5, 278, 9606]]  # Your new data here\n",
    "\n",
    "# Use the loaded model for prediction\n",
    "predictions = loaded_rf_model.predict(new_data)\n",
    "print(\"Prediction:\", predictions)"
   ]
  },
  {
   "cell_type": "code",
   "execution_count": 31,
   "metadata": {},
   "outputs": [],
   "source": [
    "yhat_for_all = loaded_rf_model.predict(X)\n"
   ]
  },
  {
   "cell_type": "code",
   "execution_count": 46,
   "metadata": {},
   "outputs": [
    {
     "data": {
      "image/png": "[encoded data removed]",
      "text/plain": [
       "<Figure size 640x480 with 2 Axes>"
      ]
     },
     "metadata": {},
     "output_type": "display_data"
    }
   ],
   "source": [
    "#this is confusion matrix for all sub_accidents data\n",
    "\n",
    "cm = confusion_matrix(Y[\"Severity_new\"], yhat_for_all)\n",
    "cmp = ConfusionMatrixDisplay(cm, display_labels=[0, 1])\n",
    "\n",
    "fig, ax = plt.subplots()\n",
    "cmp.plot(ax=ax, cmap=plt.cm.Greens)\n",
    "for text in ax.texts:\n",
    "    text.set_text(\"\")\n",
    "\n",
    "# Display integers in each cell\n",
    "total_samples = cm.sum()\n",
    "for i in range(cm.shape[0]):\n",
    "    for j in range(cm.shape[1]):\n",
    "        count = cm[i, j]\n",
    "        percentage = count / total_samples * 100\n",
    "        text = f\"{count}\\n({percentage:.2f}%)\"\n",
    "        ax.text(j, i, text, ha='center', va='center', color='black')\n",
    "plt.show()"
   ]
  },
  {
   "cell_type": "markdown",
   "metadata": {},
   "source": [
    "# Some other tries"
   ]
  },
  {
   "cell_type": "code",
   "execution_count": null,
   "metadata": {},
   "outputs": [],
   "source": [
    "'''#fitting model with class weights parameter to fix imbalance\n",
    "model = RandomForestClassifier(n_estimators= 200, criterion=\"gini\", max_depth= 9, n_jobs=-1, random_state=370, class_weight=\"balanced_subsample\")\n",
    "model.fit(X_train, Y_train)\n",
    "yhat = model.predict(X_test)\n",
    "tn, fp, fn, tp = confusion_matrix(Y_test, yhat).ravel()\n",
    "print(\"True Negative = \",tn, \" False Negative = \",fn, \"True Positive = \", tp, \"False Positive = \", fn)\n",
    "print(classification_report(Y_test, yhat))'''"
   ]
  },
  {
   "cell_type": "code",
   "execution_count": null,
   "metadata": {},
   "outputs": [],
   "source": [
    "'''model = RandomForestClassifier(n_estimators= 200, criterion=\"gini\", max_depth= 9, n_jobs=-1, random_state=370, class_weight=\"balanced\")\n",
    "model.fit(X_train, Y_train)\n",
    "yhat = model.predict(X_test)\n",
    "tn, fp, fn, tp = confusion_matrix(Y_test, yhat).ravel()\n",
    "print(\"True Negative = \",tn, \" False Negative = \",fn, \"True Positive = \", tp, \"False Positive = \", fn)\n",
    "print(classification_report(Y_test, yhat))'''"
   ]
  },
  {
   "cell_type": "code",
   "execution_count": null,
   "metadata": {},
   "outputs": [],
   "source": [
    "'''# Range of clusters to test\n",
    "n_clusters_range = range(1, 11)\n",
    "bic_scores = []\n",
    "\n",
    "# Fit the model for each number of clusters and compute BIC\n",
    "for n_clusters in n_clusters_range:\n",
    "    gmm = GaussianMixture(n_components=n_clusters, random_state=42)\n",
    "    gmm.fit(X_for_cluster)\n",
    "    \n",
    "    # BIC (Bayesian Information Criterion) score\n",
    "    bic_scores.append(gmm.bic(X_for_cluster))\n",
    "\n",
    "# Plot the elbow plot\n",
    "plt.figure(figsize=(10, 6))\n",
    "plt.plot(n_clusters_range, bic_scores, marker='o')\n",
    "plt.title('Elbow Plot for Gaussian Mixture Model')\n",
    "plt.xlabel('Number of Clusters')\n",
    "plt.ylabel('BIC Score')\n",
    "plt.grid(True)\n",
    "plt.show()\n",
    "\n",
    "# Choose the optimal number of clusters based on the elbow plot\n",
    "optimal_n_clusters = np.argmin(bic_scores) + 1  # +1 because Python is zero-indexed\n",
    "print(f'Optimal Number of Clusters: {optimal_n_clusters}')\n",
    "\n",
    "# Train the model with the optimal number of clusters\n",
    "optimal_gmm = GaussianMixture(n_components=optimal_n_clusters, random_state=42)\n",
    "optimal_gmm.fit(X_train)\n",
    "\n",
    "# Predict the clusters for the testing data\n",
    "test_labels = optimal_gmm.predict(X_test)\n",
    "\n",
    "# Evaluate the model on the testing data\n",
    "test_score = optimal_gmm.score(X_test)\n",
    "silhouette_score = metrics.silhouette_score(X_test, test_labels)\n",
    "\n",
    "print(f'Log-Likelihood on Test Data: {test_score}')\n",
    "print(f'Silhouette Score on Test Data: {silhouette_score}')'''\n"
   ]
  },
  {
   "cell_type": "code",
   "execution_count": null,
   "metadata": {},
   "outputs": [],
   "source": [
    "'''gmm = GaussianMixture(n_components=5, init_params=\"random_from_data\", random_state=370)\n",
    "gmm.fit(X_for_cluster)\n",
    "cluster = gmm.predict(X_for_cluster).astype(int)'''\n",
    "\n",
    "\n",
    "\n"
   ]
  }
 ],
 "metadata": {
  "kernelspec": {
   "display_name": "Python 3",
   "language": "python",
   "name": "python3"
  },
  "language_info": {
   "codemirror_mode": {
    "name": "ipython",
    "version": 3
   },
   "file_extension": ".py",
   "mimetype": "text/x-python",
   "name": "python",
   "nbconvert_exporter": "python",
   "pygments_lexer": "ipython3",
   "version": "3.11.6"
  }
 },
 "nbformat": 4,
 "nbformat_minor": 2
}
